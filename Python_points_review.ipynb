{
  "nbformat": 4,
  "nbformat_minor": 0,
  "metadata": {
    "colab": {
      "provenance": [],
      "authorship_tag": "ABX9TyMSHdw8yZiQrcNAXQOYIpWZ",
      "include_colab_link": true
    },
    "kernelspec": {
      "name": "python3",
      "display_name": "Python 3"
    },
    "language_info": {
      "name": "python"
    }
  },
  "cells": [
    {
      "cell_type": "markdown",
      "metadata": {
        "id": "view-in-github",
        "colab_type": "text"
      },
      "source": [
        "<a href=\"https://colab.research.google.com/github/zsl0420/PythonPointsReview/blob/main/Python_points_review.ipynb\" target=\"_parent\"><img src=\"https://colab.research.google.com/assets/colab-badge.svg\" alt=\"Open In Colab\"/></a>"
      ]
    },
    {
      "cell_type": "markdown",
      "source": [
        "# 关于python print()  \n",
        "1.   多个打印，但是只打印出一行 打印加上end=\" \" \n",
        "2.   end=\"\" 中可以是任意的\n"
      ],
      "metadata": {
        "id": "KZqwxCyFc1Ux"
      }
    },
    {
      "cell_type": "code",
      "execution_count": null,
      "metadata": {
        "colab": {
          "base_uri": "https://localhost:8080/"
        },
        "id": "Ie4wtC6fxuHJ",
        "outputId": "ade94453-af36-483d-9f8c-56d7fd3fd459"
      },
      "outputs": [
        {
          "output_type": "stream",
          "name": "stdout",
          "text": [
            "this is line1 this is line2this is line3+++"
          ]
        }
      ],
      "source": [
        "print(\"this is line1\", end=\" \")\n",
        "print(\"this is line2\", end=\" \")\n",
        "print(\"this is line3\", end=\"+++\")"
      ]
    },
    {
      "cell_type": "markdown",
      "source": [
        "# Python 数据类型 \n",
        "  \n"
      ],
      "metadata": {
        "id": "PZ39VQAqfXyH"
      }
    },
    {
      "cell_type": "markdown",
      "source": [
        "在Python中，标准数据类型主要包括以下几种：  \n",
        "1. 数字类型(Number)：包括整数(int)、浮点数(float)和复数(complex)。\n",
        "2. 字符串类型(str)：用于表示文本数据，是不可变类型。\n",
        "3. 列表类型(list)：用于存储一系列有序的元素，是可变类型。\n",
        "4. 元组类型(tuple)：用于存储一系列有序的元素，是不可变类型。\n",
        "5. 集合类型(set)：用于存储一系列无序的、唯一的元素，是可变类型。\n",
        "6. 字典类型(dict)：用于存储一系列键-值对，是可变类型。\n",
        "除了上述标准数据类型之外，还有一些其他的数据类型，比如布尔类型(bool)、空值类型(NoneType)等。   \n",
        "\n",
        "Number 中的有三种数据类型：int（整型）、float（浮点型）、complex（复数）"
      ],
      "metadata": {
        "id": "o81KpmlpnNBe"
      }
    },
    {
      "cell_type": "code",
      "source": [
        "# 数字\n",
        "number1 = 1\n",
        "# 字符串\n",
        "string1 = \"1a2b3c\"\n",
        "# 元组\n",
        "tuple1 = (1, 2, 3, 4, 5)\n",
        "# 列表\n",
        "list1 = [1, 2, 3, 4, 5]\n",
        "# 字典\n",
        "dict1 = {\"a\":1, \"b\":2, \"c\":3}\n",
        "# 集合\n",
        "set1 = {1, 2, 3, 4}\n",
        "print(\"Number:\",number1, \"String:\",string1, \"Tuple:\",tuple1, \"list:\",list1, \"Dict:\",dict1, \"Set:\",set1)"
      ],
      "metadata": {
        "colab": {
          "base_uri": "https://localhost:8080/"
        },
        "id": "hm6QP_sTtFm7",
        "outputId": "4a104734-168a-49ce-8fbb-2ebbc1a1688f"
      },
      "execution_count": null,
      "outputs": [
        {
          "output_type": "stream",
          "name": "stdout",
          "text": [
            "Number: 1 String: 1a2b3c Tuple: (1, 2, 3, 4, 5) list: [1, 2, 3, 4, 5] Dict: {'a': 1, 'b': 2, 'c': 3} Set: {1, 2, 3, 4}\n"
          ]
        }
      ]
    },
    {
      "cell_type": "markdown",
      "source": [
        "#  有序和无序数据类型"
      ],
      "metadata": {
        "id": "DrYXKrvxnwsC"
      }
    },
    {
      "cell_type": "markdown",
      "source": [
        "## 有序数据类型：\n",
        "1. 列表(list)：有序的可变容器，用于存储一系列有序的元素。\n",
        "2. 元组(tuple)：有序的不可变容器，用于存储一系列有序的元素。\n",
        "3. 字符串(str)：有序的不可变容器，用于存储一系列字符。\n",
        "\n",
        "## 无序数据类型：\n",
        "1. 集合(set)：无序的可变容器，用于存储一系列无序的、唯一的元素。\n",
        "2. 字典(dict)：无序的可变容器，用于存储一系列键-值对。  \n",
        "需要注意的是，虽然字典是无序的，但是从Python 3.7开始，字典的插入顺序得到了保证，即当遍历字典时，元素的顺序与插入顺序相同。  \n",
        "\n",
        "Number是一种数值类型，不属于有序或无序数据类型，因为它不是容器类型，而是一种基本数据类型，表示数值。"
      ],
      "metadata": {
        "id": "ngsEahhAoRdK"
      }
    },
    {
      "cell_type": "markdown",
      "source": [
        "## 有序和无序的数据类型判断：  \n",
        "1. 有序数据类型的元素是有序的，即元素的位置是有序的，可以通过索引值访问每个元素。有序数据类型包括列表(list)、元组(tuple)和字符串(str)。\n",
        "2. 无序数据类型的元素是无序的，即元素的位置是随机的，不能通过索引值访问每个元素。无序数据类型包括集合(set)和字典(dict)。\n",
        "3. 有序数据类型的元素可以重复，而无序数据类型的元素不重复。这是由于无序数据类型中每个元素都有唯一的键(key)，而重复的元素会覆盖原来的键值对。"
      ],
      "metadata": {
        "id": "xaZhf1JQrsei"
      }
    },
    {
      "cell_type": "markdown",
      "source": [
        "# 可变与不可变常见场景"
      ],
      "metadata": {
        "id": "dqRikkrln0t2"
      }
    },
    {
      "cell_type": "markdown",
      "source": [
        "基本数据类型分为可变类型和不可变类型  \n",
        "可变类型：可变数据类型是指变量所指向的内存地址处的值是可以被改变的,也就是说可变类型在赋值的时候copy的是地址或者引用，python中有List、Dictionary、Set  \n",
        "不可变类型：该类型变量的值发生变化时，其对应的内存地址也变化了，改变值的时候，会重新开辟一个内存空间 python中有Number、String、Tuple  \n",
        "变与不变指的是这个变量发生变化时，对应内存所存的值是否可以发生变化，不可变类型会重新分配一个内存空间来存新的值，原有内存地址内的值不会发生变化，而可变类型则会"
      ],
      "metadata": {
        "id": "HiLR_k5BfvER"
      }
    },
    {
      "cell_type": "code",
      "source": [
        "\n",
        "\n",
        "# 修改Number的值\n",
        "print(type(number1), id(number1))\n",
        "number1 = 2\n",
        "print(type(number1), id(number1))\n",
        "\n",
        "# 修改字符串的值\n",
        "print(type(string1), id(string1))\n",
        "string1 = '1234'\n",
        "print(type(string1), id(string1))\n",
        "\n",
        "# 修改Tuple值,Tuple 类型不支持修改\n",
        "# print(type(tuple1), id(tuple1))\n",
        "# tuple1[1] = 10\n",
        "\n",
        "# 修改List\n",
        "print(type(list1), id(list1))\n",
        "list1[1] = 100\n",
        "print(type(list1), id(list1))\n",
        "\n",
        "# 修改字典\n",
        "print(type(dict1), id(dict1))\n",
        "dict1['a'] = 100\n",
        "print(type(dict1), id(dict1))"
      ],
      "metadata": {
        "colab": {
          "base_uri": "https://localhost:8080/"
        },
        "id": "oJEqBtVb4Djj",
        "outputId": "0a22fd9f-105b-4bed-8e3f-0f6b362a58fc"
      },
      "execution_count": null,
      "outputs": [
        {
          "output_type": "stream",
          "name": "stdout",
          "text": [
            "<class 'int'> 9793088\n",
            "<class 'int'> 9793120\n",
            "<class 'str'> 140304476947248\n",
            "<class 'str'> 140304681786032\n",
            "<class 'list'> 140304475162432\n",
            "<class 'list'> 140304475162432\n",
            "<class 'dict'> 140304476776704\n",
            "<class 'dict'> 140304476776704\n"
          ]
        }
      ]
    },
    {
      "cell_type": "markdown",
      "source": [
        "1. 赋值"
      ],
      "metadata": {
        "id": "1wl_x8Iu5GL1"
      }
    },
    {
      "cell_type": "code",
      "source": [
        "c = 2\n",
        "print(\"c:\", c, type(c), id(c))\n",
        "d = c\n",
        "print(\"d:\", d, type(d), id(d))\n",
        "c = 3\n",
        "print(\"c:\", c, type(c), id(c))\n",
        "print(\"d:\", d, type(d), id(d))\n",
        "\n",
        "# 列表\n",
        "list2 = [1, 2, 3, 4, 5]\n",
        "print(\"list2:\", list2, type(list2), id(list2))\n",
        "list3 = list2\n",
        "print(\"list3:\", list3, type(list3), id(list3))\n",
        "list2.append(6)\n",
        "print(\"list3:\", list3, type(list3), id(list3))"
      ],
      "metadata": {
        "id": "4xloqrafMAXU",
        "colab": {
          "base_uri": "https://localhost:8080/"
        },
        "outputId": "b29d86d4-5c0f-4e2a-9c0e-78aea6108644"
      },
      "execution_count": 1,
      "outputs": [
        {
          "output_type": "stream",
          "name": "stdout",
          "text": [
            "c: 2 <class 'int'> 9793120\n",
            "d: 2 <class 'int'> 9793120\n",
            "c: 3 <class 'int'> 9793152\n",
            "d: 2 <class 'int'> 9793120\n",
            "list2: [1, 2, 3, 4, 5] <class 'list'> 140546748943616\n",
            "list3: [1, 2, 3, 4, 5] <class 'list'> 140546748943616\n",
            "list3: [1, 2, 3, 4, 5, 6] <class 'list'> 140546748943616\n"
          ]
        }
      ]
    },
    {
      "cell_type": "markdown",
      "source": [
        "2. 可变对象的深浅拷贝  \n",
        " a.浅拷贝  \n",
        " 浅拷贝的定义：  \n",
        "> 浅拷贝创建了与原对象具有相同值的*另一个对象*， **即两个对象的内存地址不同**，但是相对于对象内部的可变子对象来说，**内部的子对象内存地址相同**，可以理解为外层进行了拷贝，内层没有拷贝  \n",
        "\n",
        "\n"
      ],
      "metadata": {
        "id": "jnMVsY98cSBc"
      }
    },
    {
      "cell_type": "code",
      "source": [
        "a = [[0, 1], 2, 3]\n",
        "b = a.copy() # 浅拷贝\n",
        "print(id(a))\n",
        "print(id(b)) # 父对象的内存地址不同\n",
        "print(id(a[0]))\n",
        "print(id(b[0])) # 子对象的内存地址相同\n",
        "b[0][0] = 5\n",
        "print(a)\n",
        "print(b) # 更改内部子对象，将会影响原有对象的子对象"
      ],
      "metadata": {
        "colab": {
          "base_uri": "https://localhost:8080/"
        },
        "id": "UVmxnPXTx0n8",
        "outputId": "33e8e117-f642-429e-e8f5-511484dece06"
      },
      "execution_count": 2,
      "outputs": [
        {
          "output_type": "stream",
          "name": "stdout",
          "text": [
            "140546749298752\n",
            "140546749300096\n",
            "140546749298304\n",
            "140546749298304\n",
            "[[5, 1], 2, 3]\n",
            "[[5, 1], 2, 3]\n"
          ]
        }
      ]
    },
    {
      "cell_type": "markdown",
      "source": [
        "浅拷贝与赋值的区别：\n",
        "\n",
        "\n",
        "> 赋值语句得到的对象与原有对象的内存地址相同\n",
        "\n"
      ],
      "metadata": {
        "id": "U0QWdEGOzWtA"
      }
    },
    {
      "cell_type": "code",
      "source": [
        "b = a\n",
        "print(id(b))"
      ],
      "metadata": {
        "colab": {
          "base_uri": "https://localhost:8080/"
        },
        "id": "mCxCyjkkzZaK",
        "outputId": "a067f0fe-3d51-4270-ca61-0285f24d7edd"
      },
      "execution_count": 3,
      "outputs": [
        {
          "output_type": "stream",
          "name": "stdout",
          "text": [
            "140546749298752\n"
          ]
        }
      ]
    },
    {
      "cell_type": "markdown",
      "source": [
        " 常见的实现浅拷贝的方法有：  \n",
        "*   切片操作\n",
        "*   调用列表、字典、集合的方法copy()  \n",
        "*   调用内置函数list()、dict()、set()\n",
        "*   调用标准库模块copy中的函数copy()"
      ],
      "metadata": {
        "id": "t_K760Yh0m8H"
      }
    },
    {
      "cell_type": "code",
      "source": [
        "# 示例如下, 浅拷贝的对象内存地址不同，其中的子对象的内存地址相同\n",
        "a = [[0, 1], 2, 3]\n",
        "b = a[:]\n",
        "print(\"b:\", id(b))\n",
        "print(\"b:\", id(b[0]))\n",
        "\n",
        "c = a.copy()\n",
        "print(\"c:\", id(c))\n",
        "print(\"c:\", id(c[0]))\n",
        "\n",
        "d = list(a)\n",
        "print(\"d:\", id(d))\n",
        "print(\"d:\", id(d[0]))\n",
        "\n",
        "import copy\n",
        "e = copy.copy(a)\n",
        "print(\"e:\", id(e))\n",
        "print(\"e:\", id(e[0]))\n"
      ],
      "metadata": {
        "colab": {
          "base_uri": "https://localhost:8080/"
        },
        "id": "qod99hqF2kcu",
        "outputId": "0300d156-73a8-49b8-d3e3-19c2a5cc24a0"
      },
      "execution_count": 4,
      "outputs": [
        {
          "output_type": "stream",
          "name": "stdout",
          "text": [
            "b: 140546748940672\n",
            "b: 140546748940864\n",
            "c: 140546748944320\n",
            "c: 140546748940864\n",
            "d: 140546748033216\n",
            "d: 140546748940864\n",
            "e: 140546749298304\n",
            "e: 140546748940864\n"
          ]
        }
      ]
    },
    {
      "cell_type": "markdown",
      "source": [
        " a.深拷贝  \n",
        " 深拷贝的定义：  \n",
        " 深拷贝创建了与某对象具有相同值的另一个对象，两个对象的内存地址不同，相较于浅拷贝来说，深拷贝的子对象与原有对象也不是一个对象，即可变子对象的内存地址也不同，深拷贝对对象的内外层都进行了拷贝\n",
        "\n"
      ],
      "metadata": {
        "id": "Ds2T6Gq15NiB"
      }
    },
    {
      "cell_type": "markdown",
      "source": [
        "深拷贝实现方法：\n",
        "> 调用标准模块copy 中的函数deepcopy()来实现深拷贝"
      ],
      "metadata": {
        "id": "_JL_E6uq8c1z"
      }
    },
    {
      "cell_type": "code",
      "source": [
        "a = [[0, 1], 2, 3]\n",
        "import copy\n",
        "b = copy.deepcopy(a)\n",
        "print(id(a))\n",
        "print(id(b))\n",
        "print(id(a[0]))\n",
        "print(id(b[0]))"
      ],
      "metadata": {
        "colab": {
          "base_uri": "https://localhost:8080/"
        },
        "id": "vW6EDSJn79FM",
        "outputId": "1b9e7a7b-cf1a-49b5-9341-edfb90b2e0e2"
      },
      "execution_count": 5,
      "outputs": [
        {
          "output_type": "stream",
          "name": "stdout",
          "text": [
            "140546747842048\n",
            "140546748940928\n",
            "140546749300544\n",
            "140546748944064\n"
          ]
        }
      ]
    },
    {
      "cell_type": "markdown",
      "source": [
        "2. 不可变对象的深浅拷贝  \n",
        "\n",
        "\n",
        "*   对于没有嵌套子对象的不可变对象，无论是深浅拷贝都不会创建另一个对象，即不会进行拷贝，**内存地址保存不变**，深浅拷贝都等同于 赋值操作，**引用复制**\n",
        "\n",
        "\n"
      ],
      "metadata": {
        "id": "VgCgwGmn9Vw_"
      }
    },
    {
      "cell_type": "code",
      "source": [
        "a = (1, 2, '3')\n",
        "b = copy.copy(a)\n",
        "c = copy.deepcopy(a)\n",
        "print(id(a))\n",
        "print(id(b))\n",
        "print(id(c))"
      ],
      "metadata": {
        "colab": {
          "base_uri": "https://localhost:8080/"
        },
        "id": "us4vVwJE-Q-F",
        "outputId": "5fdd9850-abd2-4374-8f25-809786ade1ee"
      },
      "execution_count": 6,
      "outputs": [
        {
          "output_type": "stream",
          "name": "stdout",
          "text": [
            "140546749523648\n",
            "140546749523648\n",
            "140546749523648\n"
          ]
        }
      ]
    },
    {
      "cell_type": "markdown",
      "source": [
        "*  对于有嵌套子对象的不可变对象，如果子对象是*不可变*的，不会进行拷贝，也就是不会创建另一个对象，内存地址保持不变，深浅拷贝等同于赋值操作，**引用复制**"
      ],
      "metadata": {
        "id": "qExJ2knT-lP8"
      }
    },
    {
      "cell_type": "code",
      "source": [
        "a = ((0, 1), 2, 3)\n",
        "b = copy.copy(a)\n",
        "c = copy.deepcopy(a)\n",
        "print(id(a))\n",
        "print(id(b))\n",
        "print(id(c))"
      ],
      "metadata": {
        "colab": {
          "base_uri": "https://localhost:8080/"
        },
        "id": "Q9CRwDxu-1zh",
        "outputId": "1af6173d-71af-4dda-af96-825a34e02158"
      },
      "execution_count": 7,
      "outputs": [
        {
          "output_type": "stream",
          "name": "stdout",
          "text": [
            "140546748473216\n",
            "140546748473216\n",
            "140546748473216\n"
          ]
        }
      ]
    },
    {
      "cell_type": "markdown",
      "source": [
        "\n",
        "\n",
        "*   对于有嵌套子对象的不可变对象，如果*子对象是可变的*，浅拷贝不会创建另一个对象，内存地址保持不变，也是引用复制，等同于赋值操作，深拷贝则会创建另一个对象，内存地址发生了变化\n",
        "\n"
      ],
      "metadata": {
        "id": "DjxBq4LkF9JC"
      }
    },
    {
      "cell_type": "code",
      "source": [
        "# 浅拷贝\n",
        "a = ([0, 1], 2, 3)\n",
        "b = a[:]\n",
        "c = copy.copy(a)\n",
        "d = tuple(a)\n",
        "print(id(a))\n",
        "print(id(b))\n",
        "print(id(c))\n",
        "print(id(d))\n",
        "print(id(a[0]))\n",
        "print(id(b[0]))\n",
        "print(id(c[0]))\n",
        "print(id(d[0]))\n",
        "# 深拷贝\n",
        "e = copy.deepcopy(a)\n",
        "print(id(a))\n",
        "print(id(e))\n",
        "print(id(a[0]))\n",
        "print(id(e[0]))"
      ],
      "metadata": {
        "colab": {
          "base_uri": "https://localhost:8080/"
        },
        "id": "YVbTfdlbGaLv",
        "outputId": "b6e2f411-71fc-43ea-c0f8-28998e9dbdf4"
      },
      "execution_count": 8,
      "outputs": [
        {
          "output_type": "stream",
          "name": "stdout",
          "text": [
            "140546749287552\n",
            "140546749287552\n",
            "140546749287552\n",
            "140546749287552\n",
            "140546749023488\n",
            "140546749023488\n",
            "140546749023488\n",
            "140546749023488\n",
            "140546749287552\n",
            "140546748609728\n",
            "140546749023488\n",
            "140546749024768\n"
          ]
        }
      ]
    },
    {
      "cell_type": "markdown",
      "source": [
        "### **总结**   \n",
        "深浅拷贝实际上就是针对可变数据类型来使用，实际应用场景中，需要对可变对象进行临时存储，改变其值而要求其原有值不发生变化，这个时候就要使用拷贝操作，对于无嵌套的可变类型对象，可以使用浅拷贝进行操作，对于有嵌套的可变类型对象，浅拷贝只复制了外层对象，而内层对象还是公用，如果都需要创建独立的对象，则需要使用深拷贝来操作"
      ],
      "metadata": {
        "id": "_rQDpBFwmW_-"
      }
    },
    {
      "cell_type": "markdown",
      "source": [
        "# 基本数据类型的常见操作"
      ],
      "metadata": {
        "id": "RS6FQN7puN1w"
      }
    },
    {
      "cell_type": "markdown",
      "source": [
        "\n",
        "\n",
        "1.   不可变类型\n",
        "\n",
        "> Number、String、Tuple  \n",
        "Number 中的int、float、complex  \n",
        "\n",
        "> 整型(int)  \n",
        "Python中的整型数据类型表示整数，可以进行基本的算术运算，如加、减、乘、除、取模、幂等运算，还支持位运算和比较运算。具体操作如下："
      ],
      "metadata": {
        "id": "dfO24qbzuVvH"
      }
    },
    {
      "cell_type": "code",
      "source": [
        "a = 5\n",
        "b = 3\n",
        "\n",
        "# 基本算术运算\n",
        "print(a + b) # 8\n",
        "print(a - b) # 2\n",
        "print(a * b) # 15\n",
        "print(a / b) # 1.6666666666666667\n",
        "print(a % b) # 2\n",
        "print(a ** b) # 125\n",
        "\n",
        "# 位运算\n",
        "print(a & b) # 1\n",
        "print(a | b) # 7\n",
        "print(a ^ b) # 6\n",
        "print(~a) # -6\n",
        "print(a << 1) # 10\n",
        "print(a >> 1) # 2\n",
        "\n",
        "# 比较运算\n",
        "print(a == b) # False\n",
        "print(a != b) # True\n",
        "print(a > b) # True\n",
        "print(a < b) # False\n",
        "print(a >= b) # True\n",
        "print(a <= b) # False\n"
      ],
      "metadata": {
        "id": "nS-u6umf2R5t"
      },
      "execution_count": null,
      "outputs": []
    },
    {
      "cell_type": "markdown",
      "source": [],
      "metadata": {
        "id": "Do99tNaA2mKT"
      }
    }
  ]
}