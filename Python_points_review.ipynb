{
  "nbformat": 4,
  "nbformat_minor": 0,
  "metadata": {
    "colab": {
      "provenance": [],
      "authorship_tag": "ABX9TyOSZOXtlJ8WJs134/L4PPdw"
    },
    "kernelspec": {
      "name": "python3",
      "display_name": "Python 3"
    },
    "language_info": {
      "name": "python"
    }
  },
  "cells": [
    {
      "cell_type": "code",
      "execution_count": null,
      "metadata": {
        "colab": {
          "base_uri": "https://localhost:8080/"
        },
        "id": "Ie4wtC6fxuHJ",
        "outputId": "f84528ea-72ad-4e7c-80a3-776c68d913fe"
      },
      "outputs": [
        {
          "output_type": "stream",
          "name": "stdout",
          "text": [
            "this is line1 this is line2"
          ]
        }
      ],
      "source": [
        "# 关于python print()\n",
        "# 1.多个打印，但是只打印出一行 打印加上end=\"\"\n",
        "\n",
        "print(\"this is line1\", end=\" \")\n",
        "print(\"this is line2\", end=\"\")"
      ]
    },
    {
      "cell_type": "code",
      "source": [
        "# python有六种基本数据类型，分别是数字Number、字符串String、元组Tuple、列表List、字典Dictionary、集合Set\n",
        "number1 = 1\n",
        "string1 = \"1a2b3c\"\n",
        "tuple1 = (1, 2, 3, 4, 5)\n",
        "list1 = [1, 2, 3, 4, 5]\n",
        "dict1 = {\"a\":1, \"b\":2, \"c\":3}\n",
        "set1 = {1, 2, 3, 4}\n",
        "print(\"Number:\",number1, \"String:\",string1, \"Tuple:\",tuple1, \"list:\",list1, \"Dict:\",dict1, \"Set:\",set1)\n"
      ],
      "metadata": {
        "colab": {
          "base_uri": "https://localhost:8080/"
        },
        "id": "hm6QP_sTtFm7",
        "outputId": "b34c8b65-debf-4976-fb06-b4cbad9f937c"
      },
      "execution_count": null,
      "outputs": [
        {
          "output_type": "stream",
          "name": "stdout",
          "text": [
            "Number: 1 String: 1a2b3c Tuple: (1, 2, 3, 4, 5) list: [1, 2, 3, 4, 5] Dict: {'a': 1, 'b': 2, 'c': 3} Set: {1, 2, 3, 4}\n"
          ]
        }
      ]
    },
    {
      "cell_type": "code",
      "source": [
        "# 基本数据类型分为可变类型和不可变类型\n",
        "# 可变类型：可变数据类型是指变量所指向的内存地址处的值是可以被改变的,也就是说可变类型在赋值的时候copy的是地址或者引用，python中有List、Dictionary、Set\n",
        "# 不可变类型：该类型变量的值发生变化时，其对应的内存地址也变化了，改变值的时候，会重新开辟一个内存空间 python中有Number、String、Tuple\n",
        "# 变与不变指的是这个变量发生变化时，对应内存所存的值是否可以发生变化，不可变类型会重新分配一个内存空间来存新的值，原有内存地址内的值不会发生变化，而可变类型则会\n",
        "\n",
        "# 修改Number的值\n",
        "print(type(number1), id(number1))\n",
        "number1 = 2\n",
        "print(type(number1), id(number1))\n",
        "\n",
        "# 修改字符串的值\n",
        "print(type(string1), id(string1))\n",
        "string1 = '1234'\n",
        "print(type(string1), id(string1))\n",
        "\n",
        "# 修改Tuple值,Tuple 类型不支持修改\n",
        "# print(type(tuple1), id(tuple1))\n",
        "# tuple1[1] = 10\n",
        "\n",
        "# 修改List\n",
        "print(type(list1), id(list1))\n",
        "list1[1] = 100\n",
        "print(type(list1), id(list1))\n",
        "\n",
        "# 修改字典\n",
        "print(type(dict1), id(dict1))\n",
        "dict1['a'] = 100\n",
        "print(type(dict1), id(dict1))"
      ],
      "metadata": {
        "colab": {
          "base_uri": "https://localhost:8080/"
        },
        "id": "oJEqBtVb4Djj",
        "outputId": "0a22fd9f-105b-4bed-8e3f-0f6b362a58fc"
      },
      "execution_count": null,
      "outputs": [
        {
          "output_type": "stream",
          "name": "stdout",
          "text": [
            "<class 'int'> 9793088\n",
            "<class 'int'> 9793120\n",
            "<class 'str'> 140304476947248\n",
            "<class 'str'> 140304681786032\n",
            "<class 'list'> 140304475162432\n",
            "<class 'list'> 140304475162432\n",
            "<class 'dict'> 140304476776704\n",
            "<class 'dict'> 140304476776704\n"
          ]
        }
      ]
    },
    {
      "cell_type": "code",
      "source": [
        "# 可变与不可变常见场景\n",
        "# 1.赋值 Number 把A变量赋值给B, 更改A 的值后，B 的值还是原始值\n",
        "c = 2\n",
        "print(\"c:\", c, type(c), id(c))\n",
        "d = c\n",
        "print(\"d:\", d, type(d), id(d))\n",
        "c = 3\n",
        "print(\"c:\", c, type(c), id(c))\n",
        "print(\"d:\", d, type(d), id(d))\n",
        "\n",
        "# 列表\n",
        "list2 = [1, 2, 3, 4, 5]\n",
        "print(\"list2:\", list2, type(list2), id(list2))\n",
        "list3 = list2\n",
        "print(\"list3:\", list3, type(list3), id(list3))\n",
        "list2.append(6)\n",
        "print(\"list3:\", list3, type(list3), id(list3))"
      ],
      "metadata": {
        "id": "4xloqrafMAXU",
        "colab": {
          "base_uri": "https://localhost:8080/"
        },
        "outputId": "cd773826-2eef-4eec-9d37-f1e8f49660cb"
      },
      "execution_count": null,
      "outputs": [
        {
          "output_type": "stream",
          "name": "stdout",
          "text": [
            "c: 2 <class 'int'> 9793120\n",
            "d: 2 <class 'int'> 9793120\n",
            "c: 3 <class 'int'> 9793152\n",
            "d: 2 <class 'int'> 9793120\n",
            "list2: [1, 2, 3, 4, 5] <class 'list'> 140516585722240\n",
            "list3: [1, 2, 3, 4, 5] <class 'list'> 140516585722240\n",
            "list3: [1, 2, 3, 4, 5, 6] <class 'list'> 140516585722240\n"
          ]
        }
      ]
    }
  ]
}