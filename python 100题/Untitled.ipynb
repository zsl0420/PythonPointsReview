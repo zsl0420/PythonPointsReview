{
 "cells": [
  {
   "cell_type": "code",
   "execution_count": 2,
   "id": "8571a3eb",
   "metadata": {},
   "outputs": [
    {
     "name": "stdout",
     "output_type": "stream",
     "text": [
      "1234567890\n"
     ]
    },
    {
     "data": {
      "text/plain": [
       "True"
      ]
     },
     "execution_count": 2,
     "metadata": {},
     "output_type": "execute_result"
    }
   ],
   "source": [
    "\"\"\"\n",
    "1.判断一个字符串是否有相同的字符\n",
    "\n",
    "set() 集合的特性：\n",
    "1.unordered \n",
    "2.unchangeable:Once a set is created, you cannot change its items, but you can remove items and add new items.\n",
    "3.Duplicates not allowed\n",
    "由于set具有不重复性，所以可以将字符串转变成集合来判断\n",
    "\"\"\"\n",
    "class UniqueChars:\n",
    "    def has_unique_chars(self, string):\n",
    "\n",
    "        if string is None:\n",
    "            return False\n",
    "        return len(set(string)) == len(string)\n",
    "\n",
    "    \n",
    "unique_chars = UniqueChars()\n",
    "string = input()\n",
    "unique_chars.has_unique_chars(string)"
   ]
  },
  {
   "cell_type": "code",
   "execution_count": null,
   "id": "4b8f2855",
   "metadata": {},
   "outputs": [],
   "source": []
  },
  {
   "cell_type": "code",
   "execution_count": null,
   "id": "e7f2e5a8",
   "metadata": {},
   "outputs": [],
   "source": []
  }
 ],
 "metadata": {
  "kernelspec": {
   "display_name": "Python 3 (ipykernel)",
   "language": "python",
   "name": "python3"
  },
  "language_info": {
   "codemirror_mode": {
    "name": "ipython",
    "version": 3
   },
   "file_extension": ".py",
   "mimetype": "text/x-python",
   "name": "python",
   "nbconvert_exporter": "python",
   "pygments_lexer": "ipython3",
   "version": "3.11.4"
  }
 },
 "nbformat": 4,
 "nbformat_minor": 5
}
